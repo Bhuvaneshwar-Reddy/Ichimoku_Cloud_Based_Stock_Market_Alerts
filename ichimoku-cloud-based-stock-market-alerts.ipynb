{
 "cells": [
  {
   "cell_type": "markdown",
   "id": "3055daa8",
   "metadata": {
    "papermill": {
     "duration": 0.013936,
     "end_time": "2023-08-25T16:36:32.951352",
     "exception": false,
     "start_time": "2023-08-25T16:36:32.937416",
     "status": "completed"
    },
    "tags": []
   },
   "source": []
  },
  {
   "cell_type": "markdown",
   "id": "bb1f8ca8",
   "metadata": {
    "papermill": {
     "duration": 0.012841,
     "end_time": "2023-08-25T16:36:32.977529",
     "exception": false,
     "start_time": "2023-08-25T16:36:32.964688",
     "status": "completed"
    },
    "tags": []
   },
   "source": [
    "# Ichimoku based Stock Market Prediction"
   ]
  },
  {
   "cell_type": "markdown",
   "id": "34f3d671",
   "metadata": {
    "papermill": {
     "duration": 0.015077,
     "end_time": "2023-08-25T16:36:33.005518",
     "exception": false,
     "start_time": "2023-08-25T16:36:32.990441",
     "status": "completed"
    },
    "tags": []
   },
   "source": [
    "# Introduction\n"
   ]
  },
  {
   "cell_type": "markdown",
   "id": "14423d84",
   "metadata": {
    "papermill": {
     "duration": 0.012753,
     "end_time": "2023-08-25T16:36:33.032063",
     "exception": false,
     "start_time": "2023-08-25T16:36:33.019310",
     "status": "completed"
    },
    "tags": []
   },
   "source": [
    "Hey there, fellow data enthusiasts! 👋 Ever wondered if we could decode the complexities of the stock market and unveil potential trends? Well, that's exactly what I've delved into in this Kaggle notebook. I've embarked on a journey to harness the power of the Ichimoku cloud alongside other essential indicators to predict stock market movements and alert you in-case any condition is met.\n",
    "\n",
    "So, what's cooking in this notebook? To start off, I've grabbed real-world data from the reliable source of Yahoo Finance. After all, quality data is the foundation of any fruitful analysis. Once armed with the data, I've rolled up my sleeves and crunched the numbers to calculate those four critical parameters that play a pivotal role in predicting the market's future twists and turns. Yeah, formulas and numbers might sound a tad dry, but believe me, they're the compass guiding us through the market maze.\n",
    "\n",
    "But hold on, it doesn't stop there. I've taken the Ichimoku cloud and molded it into different shapes to identify bullish and bearish signals. Think of it as decoding the market's secret language. And just to sprinkle a bit more magic, I've thrown in some RSI and MACD calculations into the mix. These indicators, my friends, are like additional lenses through which we can gain clearer insights into market sentiment.\n",
    "\n",
    "So, whether you're a market maverick or a data devotee, join me in this notebook as we unravel the mysteries of the stock market using data, formulas, and a dash of coding finesse. The future might be uncertain, but with the right tools, we can sure make it a bit more predictable. 📈🔍"
   ]
  },
  {
   "cell_type": "markdown",
   "id": "da7207ee",
   "metadata": {
    "papermill": {
     "duration": 0.012911,
     "end_time": "2023-08-25T16:36:33.057984",
     "exception": false,
     "start_time": "2023-08-25T16:36:33.045073",
     "status": "completed"
    },
    "tags": []
   },
   "source": [
    "# Importing the Libraries"
   ]
  },
  {
   "cell_type": "markdown",
   "id": "1e858c61",
   "metadata": {
    "papermill": {
     "duration": 0.012661,
     "end_time": "2023-08-25T16:36:33.083557",
     "exception": false,
     "start_time": "2023-08-25T16:36:33.070896",
     "status": "completed"
    },
    "tags": []
   },
   "source": [
    "To begin with, let us start with installing some of the libaries that are required in this project."
   ]
  },
  {
   "cell_type": "code",
   "execution_count": 1,
   "id": "eb526465",
   "metadata": {
    "execution": {
     "iopub.execute_input": "2023-08-25T16:36:33.112377Z",
     "iopub.status.busy": "2023-08-25T16:36:33.111690Z",
     "iopub.status.idle": "2023-08-25T16:37:19.011522Z",
     "shell.execute_reply": "2023-08-25T16:37:19.010009Z"
    },
    "papermill": {
     "duration": 45.917846,
     "end_time": "2023-08-25T16:37:19.014578",
     "exception": false,
     "start_time": "2023-08-25T16:36:33.096732",
     "status": "completed"
    },
    "tags": []
   },
   "outputs": [
    {
     "name": "stdout",
     "output_type": "stream",
     "text": [
      "Collecting yahoo-finance\r\n",
      "  Downloading yahoo-finance-1.4.0.tar.gz (8.9 kB)\r\n",
      "  Preparing metadata (setup.py) ... \u001b[?25l-\b \b\\\b \bdone\r\n",
      "\u001b[?25hRequirement already satisfied: pytz in /opt/conda/lib/python3.10/site-packages (from yahoo-finance) (2023.3)\r\n",
      "Requirement already satisfied: simplejson in /opt/conda/lib/python3.10/site-packages (from yahoo-finance) (3.19.1)\r\n",
      "Building wheels for collected packages: yahoo-finance\r\n",
      "  Building wheel for yahoo-finance (setup.py) ... \u001b[?25l-\b \b\\\b \b|\b \bdone\r\n",
      "\u001b[?25h  Created wheel for yahoo-finance: filename=yahoo_finance-1.4.0-py3-none-any.whl size=7231 sha256=03c55fe833d0609ee627cf4fa5407421e4e98841a68109831b9a91beea86d750\r\n",
      "  Stored in directory: /root/.cache/pip/wheels/f6/a9/34/f1aaa343d0861148f79a9df08f380e4dbbdbe27b7ba1e0e84c\r\n",
      "Successfully built yahoo-finance\r\n",
      "Installing collected packages: yahoo-finance\r\n",
      "Successfully installed yahoo-finance-1.4.0\r\n",
      "Collecting yfinance\r\n",
      "  Downloading yfinance-0.2.28-py2.py3-none-any.whl (65 kB)\r\n",
      "\u001b[2K     \u001b[90m━━━━━━━━━━━━━━━━━━━━━━━━━━━━━━━━━━━━━━━━\u001b[0m \u001b[32m65.3/65.3 kB\u001b[0m \u001b[31m2.9 MB/s\u001b[0m eta \u001b[36m0:00:00\u001b[0m\r\n",
      "\u001b[?25hRequirement already satisfied: pandas>=1.3.0 in /opt/conda/lib/python3.10/site-packages (from yfinance) (1.5.3)\r\n",
      "Requirement already satisfied: numpy>=1.16.5 in /opt/conda/lib/python3.10/site-packages (from yfinance) (1.23.5)\r\n",
      "Requirement already satisfied: requests>=2.31 in /opt/conda/lib/python3.10/site-packages (from yfinance) (2.31.0)\r\n",
      "Collecting multitasking>=0.0.7 (from yfinance)\r\n",
      "  Downloading multitasking-0.0.11-py3-none-any.whl (8.5 kB)\r\n",
      "Requirement already satisfied: lxml>=4.9.1 in /opt/conda/lib/python3.10/site-packages (from yfinance) (4.9.3)\r\n",
      "Requirement already satisfied: appdirs>=1.4.4 in /opt/conda/lib/python3.10/site-packages (from yfinance) (1.4.4)\r\n",
      "Requirement already satisfied: pytz>=2022.5 in /opt/conda/lib/python3.10/site-packages (from yfinance) (2023.3)\r\n",
      "Requirement already satisfied: frozendict>=2.3.4 in /opt/conda/lib/python3.10/site-packages (from yfinance) (2.3.8)\r\n",
      "Requirement already satisfied: beautifulsoup4>=4.11.1 in /opt/conda/lib/python3.10/site-packages (from yfinance) (4.12.2)\r\n",
      "Requirement already satisfied: html5lib>=1.1 in /opt/conda/lib/python3.10/site-packages (from yfinance) (1.1)\r\n",
      "Requirement already satisfied: soupsieve>1.2 in /opt/conda/lib/python3.10/site-packages (from beautifulsoup4>=4.11.1->yfinance) (2.3.2.post1)\r\n",
      "Requirement already satisfied: six>=1.9 in /opt/conda/lib/python3.10/site-packages (from html5lib>=1.1->yfinance) (1.16.0)\r\n",
      "Requirement already satisfied: webencodings in /opt/conda/lib/python3.10/site-packages (from html5lib>=1.1->yfinance) (0.5.1)\r\n",
      "Requirement already satisfied: python-dateutil>=2.8.1 in /opt/conda/lib/python3.10/site-packages (from pandas>=1.3.0->yfinance) (2.8.2)\r\n",
      "Requirement already satisfied: charset-normalizer<4,>=2 in /opt/conda/lib/python3.10/site-packages (from requests>=2.31->yfinance) (3.1.0)\r\n",
      "Requirement already satisfied: idna<4,>=2.5 in /opt/conda/lib/python3.10/site-packages (from requests>=2.31->yfinance) (3.4)\r\n",
      "Requirement already satisfied: urllib3<3,>=1.21.1 in /opt/conda/lib/python3.10/site-packages (from requests>=2.31->yfinance) (1.26.15)\r\n",
      "Requirement already satisfied: certifi>=2017.4.17 in /opt/conda/lib/python3.10/site-packages (from requests>=2.31->yfinance) (2023.5.7)\r\n",
      "Installing collected packages: multitasking, yfinance\r\n",
      "Successfully installed multitasking-0.0.11 yfinance-0.2.28\r\n",
      "Requirement already satisfied: pandas-datareader in /opt/conda/lib/python3.10/site-packages (0.10.0)\r\n",
      "Requirement already satisfied: lxml in /opt/conda/lib/python3.10/site-packages (from pandas-datareader) (4.9.3)\r\n",
      "Requirement already satisfied: pandas>=0.23 in /opt/conda/lib/python3.10/site-packages (from pandas-datareader) (1.5.3)\r\n",
      "Requirement already satisfied: requests>=2.19.0 in /opt/conda/lib/python3.10/site-packages (from pandas-datareader) (2.31.0)\r\n",
      "Requirement already satisfied: python-dateutil>=2.8.1 in /opt/conda/lib/python3.10/site-packages (from pandas>=0.23->pandas-datareader) (2.8.2)\r\n",
      "Requirement already satisfied: pytz>=2020.1 in /opt/conda/lib/python3.10/site-packages (from pandas>=0.23->pandas-datareader) (2023.3)\r\n",
      "Requirement already satisfied: numpy>=1.21.0 in /opt/conda/lib/python3.10/site-packages (from pandas>=0.23->pandas-datareader) (1.23.5)\r\n",
      "Requirement already satisfied: charset-normalizer<4,>=2 in /opt/conda/lib/python3.10/site-packages (from requests>=2.19.0->pandas-datareader) (3.1.0)\r\n",
      "Requirement already satisfied: idna<4,>=2.5 in /opt/conda/lib/python3.10/site-packages (from requests>=2.19.0->pandas-datareader) (3.4)\r\n",
      "Requirement already satisfied: urllib3<3,>=1.21.1 in /opt/conda/lib/python3.10/site-packages (from requests>=2.19.0->pandas-datareader) (1.26.15)\r\n",
      "Requirement already satisfied: certifi>=2017.4.17 in /opt/conda/lib/python3.10/site-packages (from requests>=2.19.0->pandas-datareader) (2023.5.7)\r\n",
      "Requirement already satisfied: six>=1.5 in /opt/conda/lib/python3.10/site-packages (from python-dateutil>=2.8.1->pandas>=0.23->pandas-datareader) (1.16.0)\r\n"
     ]
    }
   ],
   "source": [
    "# All the libraries in this cell\n",
    "!pip install yahoo-finance\n",
    "!pip install yfinance\n",
    "!pip install pandas-datareader\n"
   ]
  },
  {
   "cell_type": "markdown",
   "id": "ffbc9be0",
   "metadata": {
    "papermill": {
     "duration": 0.015777,
     "end_time": "2023-08-25T16:37:19.046362",
     "exception": false,
     "start_time": "2023-08-25T16:37:19.030585",
     "status": "completed"
    },
    "tags": []
   },
   "source": [
    "Now, let us import these libraries into our notebook"
   ]
  },
  {
   "cell_type": "code",
   "execution_count": 2,
   "id": "33c7f0a0",
   "metadata": {
    "execution": {
     "iopub.execute_input": "2023-08-25T16:37:19.078758Z",
     "iopub.status.busy": "2023-08-25T16:37:19.078279Z",
     "iopub.status.idle": "2023-08-25T16:37:19.119791Z",
     "shell.execute_reply": "2023-08-25T16:37:19.118775Z"
    },
    "papermill": {
     "duration": 0.061206,
     "end_time": "2023-08-25T16:37:19.122711",
     "exception": false,
     "start_time": "2023-08-25T16:37:19.061505",
     "status": "completed"
    },
    "tags": []
   },
   "outputs": [],
   "source": [
    "import yfinance as yahooFinance\n",
    "import pandas as pd\n",
    "from pandas import DataFrame"
   ]
  },
  {
   "cell_type": "markdown",
   "id": "28d888f9",
   "metadata": {
    "papermill": {
     "duration": 0.014969,
     "end_time": "2023-08-25T16:37:19.152966",
     "exception": false,
     "start_time": "2023-08-25T16:37:19.137997",
     "status": "completed"
    },
    "tags": []
   },
   "source": [
    "Next, we import the data from yahoo finance. In this case, I will be working on the stock market of Synopsis company whose ticker symbol is \"SNPS\" and will extract the data of past one year. We can predict the stock market for any company just by replacing the ticker value with the interested company's ticker symbol."
   ]
  },
  {
   "cell_type": "code",
   "execution_count": 3,
   "id": "afaee51a",
   "metadata": {
    "execution": {
     "iopub.execute_input": "2023-08-25T16:37:19.185094Z",
     "iopub.status.busy": "2023-08-25T16:37:19.183942Z",
     "iopub.status.idle": "2023-08-25T16:37:19.481171Z",
     "shell.execute_reply": "2023-08-25T16:37:19.479757Z"
    },
    "papermill": {
     "duration": 0.316239,
     "end_time": "2023-08-25T16:37:19.484044",
     "exception": false,
     "start_time": "2023-08-25T16:37:19.167805",
     "status": "completed"
    },
    "tags": []
   },
   "outputs": [],
   "source": [
    "ticker_info = yahooFinance.Ticker(\"SNPS\")\n",
    "df = ticker_info.history(period=\"1y\")"
   ]
  },
  {
   "cell_type": "markdown",
   "id": "450c533b",
   "metadata": {
    "papermill": {
     "duration": 0.014918,
     "end_time": "2023-08-25T16:37:19.513977",
     "exception": false,
     "start_time": "2023-08-25T16:37:19.499059",
     "status": "completed"
    },
    "tags": []
   },
   "source": [
    "# Parameters of Ichimoku Cloud"
   ]
  },
  {
   "cell_type": "markdown",
   "id": "1f86575e",
   "metadata": {
    "papermill": {
     "duration": 0.014576,
     "end_time": "2023-08-25T16:37:19.543330",
     "exception": false,
     "start_time": "2023-08-25T16:37:19.528754",
     "status": "completed"
    },
    "tags": []
   },
   "source": [
    "Before going any further, let us first understand what exactly is Ichimoku cloud.\n",
    ". When it comes to deciphering market trends, we've got four key parameters on our radar:\n",
    "\n",
    "* **Tenkan-sen (Conversion Line)**: Think of this as a short-term compass. It's calculated by averaging the highest high and lowest low over a specific period. The Tenkan-sen is like our market's mood ring, giving us an idea of its short-term sentiment.\n",
    "\n",
    "* **Kijun-sen (Base Line)**: A tad more patient than the Tenkan-sen, the Kijun-sen takes a slightly longer average of highs and lows. This line helps us gauge the market's medium-term trends. Consider it the cool, collected analyst among the parameters.\n",
    "\n",
    "* **Senkou Span A (Leading Span A)**: This one's a bit futuristic. Senkou Span A is a midpoint of the Tenkan-sen and Kijun-sen, projected ahead. It paints part of the Ichimoku Cloud, acting as a boundary between potential support and resistance levels.\n",
    "\n",
    "* **Senkou Span B (Leading Span B)**: Now, Senkou Span B takes a longer-term perspective. It's the average of the highest high and lowest low over an extended period, projected forward. Together with Senkou Span A, it forms the Ichimoku Cloud, the dynamic area that hints at potential trend shifts.\n",
    "\n",
    "And there you have it, our four Ichimoku Cloud parameters. They might sound like technical mumbo-jumbo, but once we put them to work, they'll help us uncover hidden patterns and signals within the stock market jungle. 📊🌥️"
   ]
  },
  {
   "cell_type": "markdown",
   "id": "80dbb19d",
   "metadata": {
    "papermill": {
     "duration": 0.014361,
     "end_time": "2023-08-25T16:37:19.572549",
     "exception": false,
     "start_time": "2023-08-25T16:37:19.558188",
     "status": "completed"
    },
    "tags": []
   },
   "source": [
    "Now, let us one by one define the functions to calculate all the four parameters\n"
   ]
  },
  {
   "cell_type": "code",
   "execution_count": 4,
   "id": "ec2724d2",
   "metadata": {
    "execution": {
     "iopub.execute_input": "2023-08-25T16:37:19.604971Z",
     "iopub.status.busy": "2023-08-25T16:37:19.604555Z",
     "iopub.status.idle": "2023-08-25T16:37:19.611200Z",
     "shell.execute_reply": "2023-08-25T16:37:19.609967Z"
    },
    "papermill": {
     "duration": 0.025833,
     "end_time": "2023-08-25T16:37:19.613864",
     "exception": false,
     "start_time": "2023-08-25T16:37:19.588031",
     "status": "completed"
    },
    "tags": []
   },
   "outputs": [],
   "source": [
    "#Function to calculate Conversion Line i.e the blue line\n",
    "\n",
    "def get_conversion():\n",
    "    high9=max(df[\"High\"].tail(9)) # The highest price in the last 9 periods\n",
    "    low9=min(df[\"Low\"].tail(9))   # The lowest price in the last 9 periods\n",
    "#Formula to calculate the conversion_rate\n",
    "    conversion=(high9+low9)/2\n",
    "    return conversion\n",
    "#print(get_conversion())"
   ]
  },
  {
   "cell_type": "code",
   "execution_count": 5,
   "id": "57b52294",
   "metadata": {
    "execution": {
     "iopub.execute_input": "2023-08-25T16:37:19.647382Z",
     "iopub.status.busy": "2023-08-25T16:37:19.646991Z",
     "iopub.status.idle": "2023-08-25T16:37:19.653189Z",
     "shell.execute_reply": "2023-08-25T16:37:19.651989Z"
    },
    "papermill": {
     "duration": 0.02601,
     "end_time": "2023-08-25T16:37:19.655585",
     "exception": false,
     "start_time": "2023-08-25T16:37:19.629575",
     "status": "completed"
    },
    "tags": []
   },
   "outputs": [],
   "source": [
    "# Function to calculate the Base Line i.e the red line\n",
    "\n",
    "def get_base():\n",
    "    high26=max(df[\"High\"].tail(26)) # The highest price in the last 26 periods\n",
    "    low26=min(df[\"Low\"].tail(26))   # The lowest price in the last 26 periods\n",
    "#Formula to calculate the base_rate\n",
    "    base=(high26+low26)/2\n",
    "    return base\n",
    "#print(get_base())"
   ]
  },
  {
   "cell_type": "code",
   "execution_count": 6,
   "id": "ee102d43",
   "metadata": {
    "execution": {
     "iopub.execute_input": "2023-08-25T16:37:19.687669Z",
     "iopub.status.busy": "2023-08-25T16:37:19.687277Z",
     "iopub.status.idle": "2023-08-25T16:37:19.693147Z",
     "shell.execute_reply": "2023-08-25T16:37:19.691844Z"
    },
    "papermill": {
     "duration": 0.025068,
     "end_time": "2023-08-25T16:37:19.695622",
     "exception": false,
     "start_time": "2023-08-25T16:37:19.670554",
     "status": "completed"
    },
    "tags": []
   },
   "outputs": [],
   "source": [
    "#Function to calculate the Span_A i.e the top of the cloud i.e green line\n",
    "\n",
    "def get_span_A(conversion,base):\n",
    "    span_A = (conversion+base)/2\n",
    "    return span_A\n",
    "#print(get_span_A(get_conversion(),get_base()))"
   ]
  },
  {
   "cell_type": "code",
   "execution_count": 7,
   "id": "967b4aa7",
   "metadata": {
    "execution": {
     "iopub.execute_input": "2023-08-25T16:37:19.727259Z",
     "iopub.status.busy": "2023-08-25T16:37:19.726842Z",
     "iopub.status.idle": "2023-08-25T16:37:19.733675Z",
     "shell.execute_reply": "2023-08-25T16:37:19.732443Z"
    },
    "papermill": {
     "duration": 0.025482,
     "end_time": "2023-08-25T16:37:19.736013",
     "exception": false,
     "start_time": "2023-08-25T16:37:19.710531",
     "status": "completed"
    },
    "tags": []
   },
   "outputs": [],
   "source": [
    "#Function to calculate the Span_B i.e the bottom of the cloud i.e black line\n",
    "\n",
    "def get_span_B():\n",
    "    high52=max(df[\"High\"].tail(52))  # The highest price in the last 52 periods\n",
    "    low52=min(df[\"Low\"].tail(52))    # The lowest price in the last 26 periods\n",
    "    #Formula to calculate span_B\n",
    "    span_B=(high52+low52)/2\n",
    "    return span_B\n",
    "#print(get_span_B())"
   ]
  },
  {
   "cell_type": "markdown",
   "id": "16b940e1",
   "metadata": {
    "papermill": {
     "duration": 0.014694,
     "end_time": "2023-08-25T16:37:19.766961",
     "exception": false,
     "start_time": "2023-08-25T16:37:19.752267",
     "status": "completed"
    },
    "tags": []
   },
   "source": [
    "For simplicity, let us store all the 4 values into some variables. "
   ]
  },
  {
   "cell_type": "code",
   "execution_count": 8,
   "id": "46c405ff",
   "metadata": {
    "execution": {
     "iopub.execute_input": "2023-08-25T16:37:19.799050Z",
     "iopub.status.busy": "2023-08-25T16:37:19.798636Z",
     "iopub.status.idle": "2023-08-25T16:37:19.804930Z",
     "shell.execute_reply": "2023-08-25T16:37:19.803937Z"
    },
    "papermill": {
     "duration": 0.025177,
     "end_time": "2023-08-25T16:37:19.807455",
     "exception": false,
     "start_time": "2023-08-25T16:37:19.782278",
     "status": "completed"
    },
    "tags": []
   },
   "outputs": [],
   "source": [
    "conversion=get_conversion()\n",
    "base=get_base()\n",
    "span_A=get_span_A(conversion,base)\n",
    "span_B=get_span_B()\n"
   ]
  },
  {
   "cell_type": "markdown",
   "id": "f145f4a8",
   "metadata": {
    "papermill": {
     "duration": 0.014505,
     "end_time": "2023-08-25T16:37:19.837010",
     "exception": false,
     "start_time": "2023-08-25T16:37:19.822505",
     "status": "completed"
    },
    "tags": []
   },
   "source": [
    "# Different Cases for determining Bullish and Bearish signals"
   ]
  },
  {
   "cell_type": "markdown",
   "id": "23166588",
   "metadata": {
    "papermill": {
     "duration": 0.014715,
     "end_time": "2023-08-25T16:37:19.866549",
     "exception": false,
     "start_time": "2023-08-25T16:37:19.851834",
     "status": "completed"
    },
    "tags": []
   },
   "source": [
    "Now, before we go any further, let us discuss two important terms in stock market prediction, i.e bullish and bearish signals.\n",
    "\n",
    "Let's break down the concepts of bullish and bearish signals, making it crystal clear even for someone taking their first steps into this territory.\n",
    "\n",
    "* **Bullish Signals**:\n",
    "\n",
    "Picture a bull charging forward with its horns up. That's the spirit of a bullish market! When we talk about bullish signals, we're talking about signs that suggest the market is on an upswing, like a rising tide lifting all boats.\n",
    "\n",
    "In simple terms, a bullish signal indicates that it might be a good time to expect higher prices for stocks or assets. It's like the market saying, \"Hey, things are looking up, and it might be a wise move to consider buying.\"\n",
    "\n",
    "* **Bearish Signals**:\n",
    "\n",
    "Now, flip that image. Imagine a bear swiping its paws downward. That's the vibe of a bearish market. When we mention bearish signals, we're pointing at hints that the market might be heading for a dip, like a roller coaster taking a downward slope.\n",
    "\n",
    "In straightforward language, a bearish signal suggests that prices might be on the decline or could soon take a dip. It's like the market whispering, \"Caution might be the name of the game right now, consider selling or at least be prepared for a drop.\"\n",
    "\n",
    "Now that we understood both bullish and bearish signals, let us go over some cases which can help us identify whether we're getting a bullish signal or a bearish signal."
   ]
  },
  {
   "cell_type": "markdown",
   "id": "7a30fc6b",
   "metadata": {
    "papermill": {
     "duration": 0.015278,
     "end_time": "2023-08-25T16:37:19.897012",
     "exception": false,
     "start_time": "2023-08-25T16:37:19.881734",
     "status": "completed"
    },
    "tags": []
   },
   "source": [
    "# 1. Bullish Signals"
   ]
  },
  {
   "cell_type": "code",
   "execution_count": 9,
   "id": "4fa27790",
   "metadata": {
    "execution": {
     "iopub.execute_input": "2023-08-25T16:37:19.930245Z",
     "iopub.status.busy": "2023-08-25T16:37:19.929575Z",
     "iopub.status.idle": "2023-08-25T16:37:19.935093Z",
     "shell.execute_reply": "2023-08-25T16:37:19.934022Z"
    },
    "papermill": {
     "duration": 0.025292,
     "end_time": "2023-08-25T16:37:19.938044",
     "exception": false,
     "start_time": "2023-08-25T16:37:19.912752",
     "status": "completed"
    },
    "tags": []
   },
   "outputs": [],
   "source": [
    "# Case-1: When Price is above the cloud i.e conversion>base and conversion and base lines are above the cloud\n",
    "if((conversion>base) & (conversion>span_A) & (base>span_B)):\n",
    "    print(\"Level-2 Bullish Alert!\")\n",
    "    print(\"Buy or hold the positions\")\n",
    "elif(conversion>base):\n",
    "    print(\"Level-1 Bullish Alert!\")"
   ]
  },
  {
   "cell_type": "markdown",
   "id": "b26d966d",
   "metadata": {
    "papermill": {
     "duration": 0.0153,
     "end_time": "2023-08-25T16:37:19.968735",
     "exception": false,
     "start_time": "2023-08-25T16:37:19.953435",
     "status": "completed"
    },
    "tags": []
   },
   "source": [
    "In this case, if the conversion line is greater than base line and both conversion and base lines are above the cloud, then it is considered Level-2 Bullish Alert!\n",
    "\n",
    "Level-2 Bullish is considered very good and this is the perfect time to either buy or hold the positions. \n",
    "\n",
    "If only the first condition is satisfied, then it is considered Level-1 Bullish Alert and the market is pretty good."
   ]
  },
  {
   "cell_type": "code",
   "execution_count": 10,
   "id": "74febf55",
   "metadata": {
    "execution": {
     "iopub.execute_input": "2023-08-25T16:37:20.001136Z",
     "iopub.status.busy": "2023-08-25T16:37:20.000371Z",
     "iopub.status.idle": "2023-08-25T16:37:20.006678Z",
     "shell.execute_reply": "2023-08-25T16:37:20.005265Z"
    },
    "papermill": {
     "duration": 0.026269,
     "end_time": "2023-08-25T16:37:20.009888",
     "exception": false,
     "start_time": "2023-08-25T16:37:19.983619",
     "status": "completed"
    },
    "tags": []
   },
   "outputs": [],
   "source": [
    "#Case-2: When conversion and base lines are inside the cloud\n",
    "\n",
    "cmp=min(df[\"Close\"].tail(1))\n",
    "if((conversion>base) & (span_A>cmp>span_B)):\n",
    "    print(\"No Direction\")\n",
    "    "
   ]
  },
  {
   "cell_type": "markdown",
   "id": "dc6cfd2c",
   "metadata": {
    "papermill": {
     "duration": 0.01455,
     "end_time": "2023-08-25T16:37:20.040254",
     "exception": false,
     "start_time": "2023-08-25T16:37:20.025704",
     "status": "completed"
    },
    "tags": []
   },
   "source": [
    "In this case, if the conversion line is greater than base line but they are present inside the cloud, then we should not make any decision in this phase as it can be difficult to predict whether the signal will be bullish or bearish.\n",
    "\n",
    "Hence, we have given it as \"No Direction\"."
   ]
  },
  {
   "cell_type": "markdown",
   "id": "495189b6",
   "metadata": {
    "papermill": {
     "duration": 0.014442,
     "end_time": "2023-08-25T16:37:20.069667",
     "exception": false,
     "start_time": "2023-08-25T16:37:20.055225",
     "status": "completed"
    },
    "tags": []
   },
   "source": [
    "# 2. Bearish Signals"
   ]
  },
  {
   "cell_type": "code",
   "execution_count": 11,
   "id": "47fc4e04",
   "metadata": {
    "execution": {
     "iopub.execute_input": "2023-08-25T16:37:20.101275Z",
     "iopub.status.busy": "2023-08-25T16:37:20.100826Z",
     "iopub.status.idle": "2023-08-25T16:37:20.107505Z",
     "shell.execute_reply": "2023-08-25T16:37:20.106227Z"
    },
    "papermill": {
     "duration": 0.025548,
     "end_time": "2023-08-25T16:37:20.110258",
     "exception": false,
     "start_time": "2023-08-25T16:37:20.084710",
     "status": "completed"
    },
    "tags": []
   },
   "outputs": [
    {
     "name": "stdout",
     "output_type": "stream",
     "text": [
      "Level-2 Bearish Alert!\n",
      "Sell or stay out of market\n"
     ]
    }
   ],
   "source": [
    "# Case-1: Price is below the cloud i.e conversion > base and conversion and base signals are below the cloud\n",
    "if((conversion<base) & (conversion<span_A) & (base<span_B)):\n",
    "    print(\"Level-2 Bearish Alert!\")\n",
    "    print(\"Sell or stay out of market\")\n",
    "elif(conversion<base):\n",
    "    print(\"Level-1 Bearish Alert\")"
   ]
  },
  {
   "cell_type": "markdown",
   "id": "2918d428",
   "metadata": {
    "papermill": {
     "duration": 0.01497,
     "end_time": "2023-08-25T16:37:20.140765",
     "exception": false,
     "start_time": "2023-08-25T16:37:20.125795",
     "status": "completed"
    },
    "tags": []
   },
   "source": [
    "In this case, if the conversion line is less than base line and both conversion and base lines are below the cloud, then it is considered Level-2 Bearish Alert!\n",
    "\n",
    "Level-2 Bullish is considered very bad and this is the time to either sell the stocks are stay out of the market.\n",
    "\n",
    "If only the first condition is true, then it is considered Level-1 Bearish Alert and the market is down."
   ]
  },
  {
   "cell_type": "code",
   "execution_count": 12,
   "id": "21c053d9",
   "metadata": {
    "execution": {
     "iopub.execute_input": "2023-08-25T16:37:20.172417Z",
     "iopub.status.busy": "2023-08-25T16:37:20.171990Z",
     "iopub.status.idle": "2023-08-25T16:37:20.179143Z",
     "shell.execute_reply": "2023-08-25T16:37:20.178131Z"
    },
    "papermill": {
     "duration": 0.025841,
     "end_time": "2023-08-25T16:37:20.181640",
     "exception": false,
     "start_time": "2023-08-25T16:37:20.155799",
     "status": "completed"
    },
    "tags": []
   },
   "outputs": [],
   "source": [
    "# Case-2: When conversion and base are inside the cloud\n",
    "cmp=min(df[\"Close\"].tail(1))\n",
    "if((conversion<base) & (span_A<cmp<span_B)):\n",
    "    print(\"No Direction\")\n",
    "    "
   ]
  },
  {
   "cell_type": "markdown",
   "id": "0fbe7bbf",
   "metadata": {
    "papermill": {
     "duration": 0.014664,
     "end_time": "2023-08-25T16:37:20.211435",
     "exception": false,
     "start_time": "2023-08-25T16:37:20.196771",
     "status": "completed"
    },
    "tags": []
   },
   "source": [
    "In this case, if the conversion line is less than base line but they are present inside the cloud, then we should not make any decision in this phase as it can be difficult to predict whether the signal will be bullish or bearish.\n",
    "\n",
    "Hence, we have given it as \"No Direction\"."
   ]
  },
  {
   "cell_type": "markdown",
   "id": "0b781efd",
   "metadata": {
    "papermill": {
     "duration": 0.014579,
     "end_time": "2023-08-25T16:37:20.241321",
     "exception": false,
     "start_time": "2023-08-25T16:37:20.226742",
     "status": "completed"
    },
    "tags": []
   },
   "source": [
    "# Kumo Twist"
   ]
  },
  {
   "cell_type": "markdown",
   "id": "f9e2aa1a",
   "metadata": {
    "papermill": {
     "duration": 0.014515,
     "end_time": "2023-08-25T16:37:20.270838",
     "exception": false,
     "start_time": "2023-08-25T16:37:20.256323",
     "status": "completed"
    },
    "tags": []
   },
   "source": [
    "Kumo Twist is a special case which tells us that the market is going through a big change.\n",
    "\n",
    "When we talk about a Kumo Twist, we're basically paying attention to how this cloud changes its shape. Think of the cloud as a dynamic entity, almost like a mood ring for the market. The Kumo Twist happens when the cloud's lines, which were moving in one direction, suddenly decide to switch places.\n",
    "\n",
    "Imagine you're watching a see-saw. One end is up, the other is down. But suddenly, whoosh! The ends switch places. That's the twist we're talking about. It's a shift in the balance of power between the bulls and the bears in the market.\n",
    "\n",
    "In simpler words, when a Kumo Twist occurs, it could signal a potential change in trend direction. It's like the market saying, \"Hey, the wind might be changing its direction, and what was up might be heading down, or vice versa.\"\n",
    "\n",
    "So, next time you hear about a Kumo Twist, think of it as the cloud's way of whispering hints about a possible U-turn in the market's journey. Just like how you'd pay attention to your GPS, keep an eye on the Kumo Twist for potential shifts in the market's route. 🌥️🔄"
   ]
  },
  {
   "cell_type": "code",
   "execution_count": 13,
   "id": "9870b898",
   "metadata": {
    "execution": {
     "iopub.execute_input": "2023-08-25T16:37:20.302807Z",
     "iopub.status.busy": "2023-08-25T16:37:20.302173Z",
     "iopub.status.idle": "2023-08-25T16:37:20.311061Z",
     "shell.execute_reply": "2023-08-25T16:37:20.309769Z"
    },
    "papermill": {
     "duration": 0.028447,
     "end_time": "2023-08-25T16:37:20.314217",
     "exception": false,
     "start_time": "2023-08-25T16:37:20.285770",
     "status": "completed"
    },
    "tags": []
   },
   "outputs": [
    {
     "name": "stdout",
     "output_type": "stream",
     "text": [
      "Span_A and Span_B have changed positions\n",
      "Cloud is Black\n",
      "Signal to exit market\n"
     ]
    }
   ],
   "source": [
    "normal=\"Green\"\n",
    "reverse=\"Red\"\n",
    "if span_A > span_B:\n",
    "    normal=\"Green\"\n",
    "    reverse=\"Red\"\n",
    "else:\n",
    "    normal=\"Red\"\n",
    "    reverse=\"Green\"\n",
    "    \n",
    "if normal!=\"Green\":\n",
    "    print(\"Span_A and Span_B have changed positions\")\n",
    "    print(\"Cloud is Black\")\n",
    "    print(\"Signal to exit market\")\n",
    "elif reverse!=\"Red\":\n",
    "    print(\"Span_A and Span_B have changed positions\")\n",
    "    print(\"Cloud is Green\")\n",
    "    print(\"Signal to enter market\")\n",
    "    "
   ]
  },
  {
   "cell_type": "markdown",
   "id": "728e7a50",
   "metadata": {
    "papermill": {
     "duration": 0.014789,
     "end_time": "2023-08-25T16:37:20.344338",
     "exception": false,
     "start_time": "2023-08-25T16:37:20.329549",
     "status": "completed"
    },
    "tags": []
   },
   "source": [
    "In this case, if the market is good, then the cloud will have green line at the top whereas if the market is bad, then the cloud will have black line at the top.\n",
    "\n",
    "Therefore, Kumo Twist is observed whenever the cloud top line changes from either green to black or viceversa. \n",
    "\n",
    "If it changes from green to black, then the market will be down and this is the signal indicating to exit from the market whereas if it changes from black to green, then the market will be up and this is the signal indicating to enter the market.\n",
    "\n"
   ]
  },
  {
   "cell_type": "markdown",
   "id": "e2264934",
   "metadata": {
    "papermill": {
     "duration": 0.014721,
     "end_time": "2023-08-25T16:37:20.374345",
     "exception": false,
     "start_time": "2023-08-25T16:37:20.359624",
     "status": "completed"
    },
    "tags": []
   },
   "source": [
    "# Today's Volume vs. Past 9 Days: Is Bigger Better?"
   ]
  },
  {
   "cell_type": "code",
   "execution_count": 14,
   "id": "43ad62fc",
   "metadata": {
    "execution": {
     "iopub.execute_input": "2023-08-25T16:37:20.406403Z",
     "iopub.status.busy": "2023-08-25T16:37:20.406006Z",
     "iopub.status.idle": "2023-08-25T16:37:20.417184Z",
     "shell.execute_reply": "2023-08-25T16:37:20.415698Z"
    },
    "papermill": {
     "duration": 0.030287,
     "end_time": "2023-08-25T16:37:20.419678",
     "exception": false,
     "start_time": "2023-08-25T16:37:20.389391",
     "status": "completed"
    },
    "tags": []
   },
   "outputs": [
    {
     "name": "stdout",
     "output_type": "stream",
     "text": [
      "Today's volume is comparatively Low \n",
      "Volume of last 9 days: \n",
      "[Date\n",
      "2023-08-15 00:00:00-04:00     800500\n",
      "2023-08-16 00:00:00-04:00     884800\n",
      "2023-08-17 00:00:00-04:00    1492000\n",
      "2023-08-18 00:00:00-04:00     802000\n",
      "2023-08-21 00:00:00-04:00     643300\n",
      "2023-08-22 00:00:00-04:00     682400\n",
      "2023-08-23 00:00:00-04:00     796900\n",
      "2023-08-24 00:00:00-04:00     906400\n",
      "2023-08-25 00:00:00-04:00     231616\n",
      "Name: Volume, dtype: int64]\n"
     ]
    }
   ],
   "source": [
    "current_volume=min(df[\"Volume\"].tail(1))\n",
    "volume9 = max(df[\"Volume\"].tail(9))\n",
    "Volumes=[]\n",
    "if current_volume == max(df[\"Volume\"].tail(3)):\n",
    "    print(\"Today's Volume is very high compared to past 3 days:\",min(df[\"Volume\"].tail(1)))\n",
    "elif current_volume>volume9:\n",
    "    print(\"Today's Volume is very high compared to past 9 days:\",min(df[\"Volume\"].tail(1)))\n",
    "else:\n",
    "    print(\"Today's volume is comparatively Low \")\n",
    "print(\"Volume of last 9 days: \")\n",
    "Volumes.append(df[\"Volume\"].tail(9))\n",
    "print(Volumes[-5:])"
   ]
  },
  {
   "cell_type": "markdown",
   "id": "6c129a87",
   "metadata": {
    "papermill": {
     "duration": 0.014913,
     "end_time": "2023-08-25T16:37:20.450139",
     "exception": false,
     "start_time": "2023-08-25T16:37:20.435226",
     "status": "completed"
    },
    "tags": []
   },
   "source": [
    "In this code, \n",
    "* If the current volume is the maximum among the last 3 days' volumes, a message is printed indicating that today's volume is very high compared to the past 3 days. The current volume is also printed.\n",
    "* Else if the current volume is greater than the highest volume among the past 9 days, a message is printed indicating that today's volume is very high compared to the past 9 days. The current volume is also printed.\n",
    "* If neither of the above conditions is met, a message is printed indicating that today's volume is comparatively low.\n",
    "\n",
    "Based on this, we can conclude that if the current volume is high compared to last 3 or 9 days, it indicates that the market is doing significantly well and it's a good time to invest in that company.\n",
    "\n",
    "Similarly, if the volume is low compared to last 3 or 9 days, it indicates that the market is down and it's a bad time to invest in that company."
   ]
  },
  {
   "cell_type": "markdown",
   "id": "b8eb50d4",
   "metadata": {
    "papermill": {
     "duration": 0.015074,
     "end_time": "2023-08-25T16:37:20.480685",
     "exception": false,
     "start_time": "2023-08-25T16:37:20.465611",
     "status": "completed"
    },
    "tags": []
   },
   "source": [
    "# Relative Strength Index (RSI)\n"
   ]
  },
  {
   "cell_type": "markdown",
   "id": "681a91c3",
   "metadata": {
    "papermill": {
     "duration": 0.014927,
     "end_time": "2023-08-25T16:37:20.511106",
     "exception": false,
     "start_time": "2023-08-25T16:37:20.496179",
     "status": "completed"
    },
    "tags": []
   },
   "source": [
    "Think of RSI as a mood indicator for a stock. It tells you if a stock is feeling a bit tired or if it's all pumped up. RSI looks at the recent price changes of the stock. If the stock has been going up a lot, RSI helps you see if it might be getting too high and could take a breather (meaning it might go down soon). On the other hand, if it's been going down a lot, RSI shows if it's getting too low and might have a chance to bounce back (meaning it might go up soon).\n",
    "\n",
    "RSI values range from 0 to 100. If the RSI is above 70, it's like the stock is getting a bit too excited and could be overbought, so it might slow down or go down. If the RSI is below 30, it's like the stock is feeling down in the dumps and might be oversold, so it could have a chance to go up.\n",
    "\n",
    "So, in a nutshell, RSI in Ichimoku stock prediction helps you see if a stock is being a bit extreme in its moves, whether it's going up too much or down too much. It's like a little mood check to help you make smarter decisions about whether to buy, sell, or wait."
   ]
  },
  {
   "cell_type": "code",
   "execution_count": 15,
   "id": "9a7e8bb5",
   "metadata": {
    "execution": {
     "iopub.execute_input": "2023-08-25T16:37:20.544105Z",
     "iopub.status.busy": "2023-08-25T16:37:20.543268Z",
     "iopub.status.idle": "2023-08-25T16:37:20.557966Z",
     "shell.execute_reply": "2023-08-25T16:37:20.556457Z"
    },
    "papermill": {
     "duration": 0.034515,
     "end_time": "2023-08-25T16:37:20.560829",
     "exception": false,
     "start_time": "2023-08-25T16:37:20.526314",
     "status": "completed"
    },
    "tags": []
   },
   "outputs": [
    {
     "name": "stdout",
     "output_type": "stream",
     "text": [
      "RSI:  47.81147881368311\n",
      "Normal\n"
     ]
    }
   ],
   "source": [
    "time_period=14\n",
    "profit=0\n",
    "loss=0\n",
    "RSI_list=[1]\n",
    "while time_period>0:\n",
    "    price_change = df[\"Close\"].iloc[-(time_period)]-df[\"Close\"].iloc[-(time_period+1)]\n",
    "    if price_change>0:\n",
    "        profit+=price_change\n",
    "        loss+=0\n",
    "    elif price_change<0:\n",
    "        loss+=abs(price_change)\n",
    "        profit+=0\n",
    "    else:\n",
    "        pass\n",
    "    time_period-=1\n",
    "First_Avg_gain=profit/14\n",
    "First_Avg_loss=loss/14\n",
    "First_RS=First_Avg_gain/First_Avg_loss\n",
    "First_RSI = (100-(100/(1+First_RS)))\n",
    "today_diff = (df[\"Close\"].iloc[-1]-df[\"Close\"].iloc[-2])\n",
    "today_profit=0\n",
    "today_loss=0\n",
    "if today_diff>0:\n",
    "    today_profit+=today_diff\n",
    "elif today_diff<0:\n",
    "    today_loss+=abs(today_diff)\n",
    "Avg_gain = ((First_Avg_gain*13)+today_profit)/14\n",
    "Avg_loss = ((First_Avg_loss*13)+today_loss)/14\n",
    "RS=Avg_gain/Avg_loss\n",
    "RSI=100-(100/(1+RS))\n",
    "RSI_list.append(RSI)\n",
    "print(\"RSI: \",RSI)\n",
    "if RSI>70:\n",
    "    print(\"RSI: OverBought\")\n",
    "elif RSI<30:\n",
    "    print(\"RSI: OverSold\")\n",
    "else:\n",
    "    print(\"Normal\")"
   ]
  },
  {
   "cell_type": "markdown",
   "id": "cf677567",
   "metadata": {
    "papermill": {
     "duration": 0.015174,
     "end_time": "2023-08-25T16:37:20.591546",
     "exception": false,
     "start_time": "2023-08-25T16:37:20.576372",
     "status": "completed"
    },
    "tags": []
   },
   "source": [
    "# Moving Average Convergence/Divergence (MACD)\n"
   ]
  },
  {
   "cell_type": "markdown",
   "id": "a7798cc3",
   "metadata": {
    "papermill": {
     "duration": 0.015068,
     "end_time": "2023-08-25T16:37:20.622173",
     "exception": false,
     "start_time": "2023-08-25T16:37:20.607105",
     "status": "completed"
    },
    "tags": []
   },
   "source": [
    "MACD is like a stock's secret agent buddy that helps you figure out if it's about to go on an adventure, up or down. It stands for Moving Average Convergence Divergence, but let's just call it MACD to keep things simple.\n",
    "\n",
    "MACD has two important parts: the fast line and the slow line. The fast line is like a sporty car, and the slow line is like a reliable sedan. They both look at how the stock's price is moving.\n",
    "\n",
    "When the fast line speeds up and crosses above the slow line, it's like your buddy saying, \"Hey, something interesting might be happening! The stock could be going up soon!\" This might mean the stock's momentum is picking up, like a snowball rolling downhill.\n",
    "\n",
    "Conversely, if the fast line slams on the brakes and crosses below the slow line, it's like your buddy hinting, \"Hold on a second! The stock might be headed for a dip.\" This could mean the stock's momentum is slowing down.\n",
    "\n",
    "But there's more! The MACD value also has a histogram, which is like a bar chart showing the difference between the fast and slow lines. When the histogram is tall and positive, it's like the stock is saying, \"I've got energy and I'm ready to go up!\" And when it's tall and negative, the stock might be signaling, \"I'm a bit tired, might be taking a downward turn.\"\n",
    "\n",
    "So, to sum it up, MACD in Ichimoku stock prediction is like having a buddy who watches how fast a stock's price is changing and tells you if it's revving up for an exciting move up or slowing down for a potential drop. It's like having a secret agent helping you make sense of the stock's mood."
   ]
  },
  {
   "cell_type": "code",
   "execution_count": 16,
   "id": "e504384b",
   "metadata": {
    "execution": {
     "iopub.execute_input": "2023-08-25T16:37:20.655130Z",
     "iopub.status.busy": "2023-08-25T16:37:20.654343Z",
     "iopub.status.idle": "2023-08-25T16:37:20.665573Z",
     "shell.execute_reply": "2023-08-25T16:37:20.663987Z"
    },
    "papermill": {
     "duration": 0.030382,
     "end_time": "2023-08-25T16:37:20.668092",
     "exception": false,
     "start_time": "2023-08-25T16:37:20.637710",
     "status": "completed"
    },
    "tags": []
   },
   "outputs": [
    {
     "name": "stdout",
     "output_type": "stream",
     "text": [
      "MACD Difference Value:  0.5925269030092524\n"
     ]
    }
   ],
   "source": [
    "# Calculation of MACD\n",
    "\n",
    "# We have to calculate EMA12,EMA26 and EMA9\n",
    "# MACD_Line = EMA12-EMA26\n",
    "#Signal Line = EMA9\n",
    "\n",
    "# Get the 26-day EMA of the closing price\n",
    "ema12 = df['Close'].ewm(span=12, adjust=False, min_periods=12).mean()\n",
    "# Get the 12-day EMA of the closing price\n",
    "ema26 = df['Close'].ewm(span=26, adjust=False, min_periods=26).mean()\n",
    "# Subtract the 26-day EMA from the 12-Day EMA to get the MACD\n",
    "MACD = ema12 - ema26\n",
    "# Get the 9-Day EMA of the MACD for the Trigger line\n",
    "ema9 = MACD.ewm(span=9, adjust=False, min_periods=9).mean()\n",
    "# Calculate the difference between the MACD - Trigger for the Convergence/Divergence value\n",
    "difference = MACD - ema9\n",
    "print(\"MACD Difference Value: \",difference[-1])"
   ]
  },
  {
   "cell_type": "markdown",
   "id": "a6adf20f",
   "metadata": {
    "papermill": {
     "duration": 0.016815,
     "end_time": "2023-08-25T16:37:20.700638",
     "exception": false,
     "start_time": "2023-08-25T16:37:20.683823",
     "status": "completed"
    },
    "tags": []
   },
   "source": [
    "To conclude,\n",
    "\n",
    "**Positive MACD Value**: When the MACD line is above zero, it's like the stock is in a good mood. This suggests that the short-term trend is likely bullish, meaning the stock might be on an upward journey.\n",
    "\n",
    "**Negative MACD Value**: When the MACD line is below zero, it's like the stock is feeling a bit down. This suggests that the short-term trend might be bearish, and the stock could be headed downward."
   ]
  },
  {
   "cell_type": "markdown",
   "id": "631190b2",
   "metadata": {
    "papermill": {
     "duration": 0.015249,
     "end_time": "2023-08-25T16:37:20.731652",
     "exception": false,
     "start_time": "2023-08-25T16:37:20.716403",
     "status": "completed"
    },
    "tags": []
   },
   "source": [
    "# Conclusion"
   ]
  },
  {
   "cell_type": "markdown",
   "id": "e0479452",
   "metadata": {
    "papermill": {
     "duration": 0.016105,
     "end_time": "2023-08-25T16:37:20.763787",
     "exception": false,
     "start_time": "2023-08-25T16:37:20.747682",
     "status": "completed"
    },
    "tags": []
   },
   "source": [
    "Let's wrap this up in a way that's easy to grasp, even for someone new to the stock market game.\n",
    "\n",
    "Imagine having a simple script that works like your stock market buddy, whispering secrets about when to step in and when to step out. This script uses something called the Ichimoku Cloud, which might sound fancy, but it's like a magic tool to help you without making your brain hurt.\n",
    "\n",
    "With this script by your side, you don't need to stare at complicated graphs or scratch your head over confusing numbers. It's like having a smart friend who knows when the time is right. Here's the deal:\n",
    "\n",
    "**When to Enter:**\n",
    "Imagine you're at a party, and your friend is like, \"Hey, the energy is rising!\" That's what the Ichimoku Cloud does. If it tells you that the stock's mood is getting all perky, it's a good sign to jump in. You'll know that there's a chance the stock might start going up soon. It's like joining the dance floor just when the music gets exciting.\n",
    "\n",
    "**When to Exit:**\n",
    "Just as you'd leave the party when things start winding down, the Ichimoku Cloud helps you know when a stock might be losing steam. It's like your buddy saying, \"Hey, the mood might be changing.\" So, if the cloud suggests the stock's energy is dropping, it's a hint to maybe consider stepping out. You won't need to stress about complicated data – your script buddy does the thinking for you.\n",
    "\n",
    "And the best part? You can use this script anytime you want. It's like having a mini stock market expert in your pocket. Whether it's morning, noon, or night, your script can quickly tell you if the stock is all giddy or feeling a bit down. No need to overthink or worry about those overwhelming charts.\n",
    "\n",
    "So, there you have it – with this Ichimoku Cloud-based script, you'll have a simple way to decide when to get in on the action and when to take a breather. It's like having a reliable friend who keeps you in the loop, minus the headache. Happy trading!"
   ]
  },
  {
   "cell_type": "markdown",
   "id": "edc34d8c",
   "metadata": {
    "papermill": {
     "duration": 0.015296,
     "end_time": "2023-08-25T16:37:20.794690",
     "exception": false,
     "start_time": "2023-08-25T16:37:20.779394",
     "status": "completed"
    },
    "tags": []
   },
   "source": [
    "# Thank you!"
   ]
  }
 ],
 "metadata": {
  "kernelspec": {
   "display_name": "Python 3",
   "language": "python",
   "name": "python3"
  },
  "language_info": {
   "codemirror_mode": {
    "name": "ipython",
    "version": 3
   },
   "file_extension": ".py",
   "mimetype": "text/x-python",
   "name": "python",
   "nbconvert_exporter": "python",
   "pygments_lexer": "ipython3",
   "version": "3.10.12"
  },
  "papermill": {
   "default_parameters": {},
   "duration": 61.912542,
   "end_time": "2023-08-25T16:37:21.733356",
   "environment_variables": {},
   "exception": null,
   "input_path": "__notebook__.ipynb",
   "output_path": "__notebook__.ipynb",
   "parameters": {},
   "start_time": "2023-08-25T16:36:19.820814",
   "version": "2.4.0"
  }
 },
 "nbformat": 4,
 "nbformat_minor": 5
}
